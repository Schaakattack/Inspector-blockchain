{
 "cells": [
  {
   "cell_type": "markdown",
   "metadata": {},
   "source": [
    "K-Means"
   ]
  },
  {
   "cell_type": "code",
   "execution_count": 1,
   "metadata": {},
   "outputs": [],
   "source": [
    "%load_ext google.cloud.bigquery\n",
    "%matplotlib inline\n",
    "from google.cloud import bigquery\n",
    "client = bigquery.Client()\n",
    "import matplotlib.pyplot as plt\n",
    "import numpy as np\n",
    "import pandas as pd\n",
    "from sklearn import cluster\n",
    "from sklearn.metrics import silhouette_score, silhouette_samples\n",
    "from sklearn.preprocessing import StandardScaler, PowerTransformer, FunctionTransformer\n",
    "from sklearn.decomposition import PCA\n",
    "from sklearn.pipeline import Pipeline\n",
    "import random\n",
    "from sklearn.cluster import KMeans\n",
    "import matplotlib.cm as cm\n",
    "%run silhouette_plotter.py\n",
    "%run parse.py\n",
    "from mpl_toolkits.mplot3d import Axes3D"
   ]
  },
  {
   "cell_type": "code",
   "execution_count": null,
   "metadata": {},
   "outputs": [],
   "source": [
    "sql = '''\n",
    "SELECT *  FROM `eth-tokens.test.clean_avg_1MM_with_balances_tokens`\n",
    "'''\n",
    "\n",
    "df = client.query(sql).to_dataframe()"
   ]
  },
  {
   "cell_type": "code",
   "execution_count": null,
   "metadata": {},
   "outputs": [],
   "source": [
    "#remove address (string) from analysis\n",
    "data = df.iloc[:,1:]"
   ]
  },
  {
   "cell_type": "code",
   "execution_count": null,
   "metadata": {},
   "outputs": [],
   "source": [
    "#number of PCA features is full reconstruction, for now\n",
    "# num_features = data.shape[1]\n",
    "num_clusters = 4\n",
    "num_features = 15"
   ]
  },
  {
   "cell_type": "code",
   "execution_count": null,
   "metadata": {},
   "outputs": [],
   "source": [
    "log = FunctionTransformer(func=np.log1p, inverse_func=np.expm1)\n",
    "power_transform = PowerTransformer(standardize=False)\n",
    "scale = StandardScaler()\n",
    "pca =PCA(n_components=num_features)\n",
    "cl = KMeans(num_clusters)\n",
    "#build pipeline\n",
    "pipe = Pipeline([('power', power_transform ),\n",
    "                 ('scale', scale ),\n",
    "                 ('PCA', pca)])\n",
    "\n",
    "results = pipe.fit_transform(data)\n",
    "\n",
    "\n"
   ]
  },
  {
   "cell_type": "code",
   "execution_count": null,
   "metadata": {},
   "outputs": [],
   "source": [
    "#percent of variance explained by each component\n",
    "\n",
    "plt.plot(np.arange(pca.n_components_) ,np.cumsum(pca.explained_variance_ratio_)*100)\n",
    "plt.grid(b=True)\n",
    "plt.xlabel('principal component')\n",
    "plt.title('Cumulative Percent of Variance explained')\n",
    "plt.show()"
   ]
  },
  {
   "cell_type": "code",
   "execution_count": null,
   "metadata": {},
   "outputs": [],
   "source": [
    "#scoring metric?\n",
    "from sklearn.metrics import calinski_harabaz_score as ch_score\n",
    "clusters = [3,5,8,10,15,20,30,40]\n",
    "scores = []\n",
    "inertias = []\n",
    "for c in clusters:\n",
    "    cl_n = KMeans(c).fit(results)\n",
    "    score = ch_score(results, cl_n.labels_)\n",
    "    scores.append(score)\n",
    "    inertias.append(cl_n.inertia_)\n",
    "\n",
    "\n",
    "plt.plot(clusters, scores)\n",
    "plt.title('Calinski Harabaz Scores')"
   ]
  },
  {
   "cell_type": "code",
   "execution_count": null,
   "metadata": {},
   "outputs": [],
   "source": [
    "#elbow plot\n",
    "plt.plot(clusters,inertias)\n",
    "plt.title('Elbow plot')\n",
    "plt.ylabel('within cluster sum of squares')"
   ]
  },
  {
   "cell_type": "markdown",
   "metadata": {},
   "source": [
    "## Optimal clusters"
   ]
  },
  {
   "cell_type": "code",
   "execution_count": null,
   "metadata": {},
   "outputs": [],
   "source": [
    "#optimal number of clusters is around 40\n",
    "cl = KMeans(10)\n",
    "cl.fit(results)"
   ]
  },
  {
   "cell_type": "code",
   "execution_count": null,
   "metadata": {},
   "outputs": [],
   "source": [
    "#outlier removal\n",
    "\n",
    "\n",
    "def remove_outliers(results, cl, threshold):\n",
    "    '''\n",
    "    returns subset of results, and associated labels as a tuple\n",
    "    takes results and a fit KMeans cluster object'''\n",
    "    \n",
    "    new_labels = []\n",
    "    new_results = []\n",
    "    \n",
    "    \n",
    "    #code for deciding what clusters to keep\n",
    "    for i, center in enumerate(cl.cluster_centers_):\n",
    "        within_cluster_results = results[cl.labels_==i]\n",
    "        centroid = cl.cluster_centers_[i]\n",
    "        #calc std vectors\n",
    "        stdev = np.std(within_cluster_results, axis=0)\n",
    "       \n",
    "        keep = np.linalg.norm((centroid - within_cluster_results), axis=1) < threshold*np.linalg.norm(stdev)\n",
    "        new_results.append(within_cluster_results[keep])\n",
    "        #add labels?\n",
    "        new_labels.extend([i for j in range(len(within_cluster_results[keep]))])\n",
    "    return np.vstack(new_results), np.array(new_labels)\n"
   ]
  },
  {
   "cell_type": "code",
   "execution_count": null,
   "metadata": {},
   "outputs": [],
   "source": [
    "thresholds = np.linspace(.3,3, 20)\n",
    "\n",
    "test = [remove_outliers(results, cl,t) for t in thresholds]\n",
    "\n",
    "scores= []\n",
    "for (res, labels) in test:\n",
    "    \n",
    "    score = ch_score(res, labels)\n",
    "    scores.append(score)"
   ]
  },
  {
   "cell_type": "code",
   "execution_count": null,
   "metadata": {},
   "outputs": [],
   "source": [
    "plt.plot(thresholds, scores)\n",
    "plt.title('Calinski Harabaz Scores as std threshold changes')"
   ]
  },
  {
   "cell_type": "code",
   "execution_count": null,
   "metadata": {},
   "outputs": [],
   "source": [
    "#empirical best threshold 1 stdev\n",
    "newresults, labels = remove_outliers(results, cl,1)"
   ]
  },
  {
   "cell_type": "code",
   "execution_count": null,
   "metadata": {},
   "outputs": [],
   "source": [
    "%run silhouette_plotter.py\n",
    "X=results\n",
    "range_n_clusters = [20]\n",
    "if len(newresults) <20000:\n",
    "    silhouette_plotter(X, range_n_clusters)"
   ]
  },
  {
   "cell_type": "code",
   "execution_count": null,
   "metadata": {},
   "outputs": [],
   "source": [
    "#subset results for tsne\n",
    "max_size = len(results)\n",
    "subset_results = []\n",
    "lbls = []\n",
    "for c in np.unique(cl.labels_):\n",
    "    mask = (cl.labels_==c)\n",
    "    c_size = np.sum(mask)\n",
    "    if c_size < max_size:\n",
    "        lbls.extend(list(cl.labels_[cl.labels_==c]))\n",
    "        subset_results.append(results[mask])\n",
    "lbls=np.array(lbls)\n",
    "subset_results=np.vstack(subset_results)"
   ]
  },
  {
   "cell_type": "code",
   "execution_count": null,
   "metadata": {},
   "outputs": [],
   "source": [
    "import time\n",
    "from sklearn.manifold import TSNE\n",
    "\n",
    "time_start = time.time()\n",
    "tsne = TSNE(n_components=2, verbose=1, perplexity=40, n_iter=1000)\n",
    "tsne_results = tsne.fit_transform(subset_results)\n",
    "\n",
    "print('t-SNE done! Time elapsed: {} seconds'.format(time.time()-time_start))"
   ]
  },
  {
   "cell_type": "code",
   "execution_count": null,
   "metadata": {},
   "outputs": [],
   "source": [
    "plt.figure(figsize=(12,8))\n",
    "\n",
    "plt.scatter(tsne_results[:,0], tsne_results[:,1], s=10,c=lbls,cmap='tab20b', alpha=.4)\n",
    "\n",
    "\n",
    "# leg = plt.legend()\n",
    "\n",
    "\n",
    "\n",
    "\n",
    "# for lh in leg.legendHandles: \n",
    "#     lh.set_alpha(1)\n",
    "plt.title('T-SNE')\n",
    "plt.xlabel('first principal component')\n",
    "plt.ylabel('second principal component')\n",
    "plt.show()"
   ]
  },
  {
   "cell_type": "code",
   "execution_count": null,
   "metadata": {},
   "outputs": [],
   "source": [
    "plt.figure(figsize=(12,10))\n",
    "for c in np.unique(lbls):\n",
    "    mask = lbls==c\n",
    "    if np.sum(mask) <0:\n",
    "        lbl = '_nolegend_'\n",
    "    else:\n",
    "        lbl = c\n",
    "    plt.scatter(tsne_results[mask][:,0], tsne_results[mask][:,1], s=15,alpha=.1,label=lbl)\n",
    "leg = plt.legend()\n",
    "for lh in leg.legendHandles: \n",
    "    lh.set_alpha(1)\n",
    "plt.title('T-SNE')\n",
    "plt.xlabel('first principal component')\n",
    "plt.ylabel('second principal component')\n",
    "plt.tight_layout()"
   ]
  },
  {
   "cell_type": "code",
   "execution_count": null,
   "metadata": {},
   "outputs": [],
   "source": [
    "\n",
    "# fig = plt.figure()\n",
    "# ax = fig.add_subplot(111, projection='3d')\n",
    "# for c in np.unique(cl.labels_):\n",
    "#     mask = cl.labels_==c\n",
    "#     if np.sum(mask) <50:\n",
    "#         lbl = '_nolegend_'\n",
    "#     else:\n",
    "#         lbl = c\n",
    "#     ax.scatter(tsne_results[mask][:,0], tsne_results[mask][:,1], tsne_results[mask][:,2], s=10, alpha=.01,label=lbl)\n",
    "# leg = plt.legend()\n",
    "# for lh in leg.legendHandles: \n",
    "#     lh.set_alpha(1)\n",
    "# ax.set_xlabel('first principal component')\n",
    "# ax.set_ylabel('second principal component')\n",
    "# ax.set_zlabel('third principal component')\n",
    "# ax.view_init(elev=30, azim=0)\n",
    "# plt.show()\n"
   ]
  },
  {
   "cell_type": "code",
   "execution_count": null,
   "metadata": {},
   "outputs": [],
   "source": [
    "\n",
    "plt.scatter(newresults[:,0],newresults[:,1],c=labels)\n",
    "# plt.xlim(0,10)\n",
    "# plt.ylim(-10,10)"
   ]
  },
  {
   "cell_type": "code",
   "execution_count": null,
   "metadata": {},
   "outputs": [],
   "source": [
    "plt.scatter(results[:,0],results[:,1],c=cl.labels_)\n",
    "# plt.xlim(-10,100)\n",
    "# plt.ylim(-15,10)"
   ]
  },
  {
   "cell_type": "code",
   "execution_count": null,
   "metadata": {},
   "outputs": [],
   "source": [
    "# #recluster after changes\n",
    "# cl = KMeans(20).fit(results)\n",
    "newcl = KMeans(40).fit(newresults)"
   ]
  },
  {
   "cell_type": "code",
   "execution_count": null,
   "metadata": {},
   "outputs": [],
   "source": [
    "# %matplotlib widget\n",
    "from mpl_toolkits.mplot3d import Axes3D"
   ]
  },
  {
   "cell_type": "code",
   "execution_count": null,
   "metadata": {},
   "outputs": [],
   "source": [
    "# fig = plt.figure()\n",
    "# ax = fig.add_subplot(111, projection='3d')\n",
    "# ax.scatter(results[:,0],results[:,1],results[:,2],c=cl.labels_)"
   ]
  },
  {
   "cell_type": "code",
   "execution_count": null,
   "metadata": {},
   "outputs": [],
   "source": [
    "\n",
    "# plt.scatter(newresults[:,0],newresults[:,1],c=newcl.labels_)\n",
    "# plt.xlim(-10,100)\n",
    "# plt.ylim(-15,10)\n",
    "fig = plt.figure()\n",
    "ax = fig.add_subplot(111, projection='3d')\n",
    "ax.scatter(results[:,0],results[:,1],results[:,2],c=cl.labels_)\n",
    "\n",
    "# ax.set_xlim3d(-10,10)\n",
    "# ax.set_ylim3d(-15,10)\n",
    "# fig = plt.figure()\n",
    "# ax = fig.add_subplot(111, projection='3d')\n",
    "# ax.scatter(newresults[:,0],newresults[:,1],newresults[:,2],c=newcl.labels_)"
   ]
  },
  {
   "cell_type": "code",
   "execution_count": null,
   "metadata": {},
   "outputs": [],
   "source": [
    "# %matplotlib widget\n",
    "fig = plt.figure()\n",
    "ax = fig.add_subplot(111, projection='3d')\n",
    "ax.scatter(newresults[:,0],newresults[:,1],newresults[:,2],c=newcl.labels_)\n",
    "# ax.set_xlim3d(-1,1)\n",
    "# ax.set_ylim3d(-3,3)\n",
    "# ax.view_init(elev=-0, azim=90)\n",
    "# for ii in range(10,360,10):\n",
    "#     ax.view_init(elev=10, azim=ii)\n",
    "#     fig.savefig(\"movie/movie{}.png\".format(ii))"
   ]
  },
  {
   "cell_type": "markdown",
   "metadata": {},
   "source": [
    "## Label centroids with cluster"
   ]
  },
  {
   "cell_type": "code",
   "execution_count": null,
   "metadata": {},
   "outputs": [],
   "source": [
    "c = cl.cluster_centers_\n",
    "#transform back to real numbers\n",
    "centroids = log.inverse_transform(scale.inverse_transform(pca.inverse_transform(c)))\n",
    "df_summary = pd.DataFrame(centroids, columns = data.columns)"
   ]
  },
  {
   "cell_type": "code",
   "execution_count": null,
   "metadata": {},
   "outputs": [],
   "source": [
    "cluster_sizes = pd.Series(cl.labels_).value_counts()\n",
    "df_summary['cluster_size'] = cluster_sizes\n"
   ]
  },
  {
   "cell_type": "code",
   "execution_count": null,
   "metadata": {},
   "outputs": [],
   "source": [
    "df_summary.sort_values('cluster_size', ascending=False, axis=0, inplace=True)\n",
    "df_summary"
   ]
  },
  {
   "cell_type": "code",
   "execution_count": null,
   "metadata": {},
   "outputs": [],
   "source": [
    "import seaborn as sns\n",
    "sns.heatmap(df_summary.corr())"
   ]
  },
  {
   "cell_type": "code",
   "execution_count": null,
   "metadata": {},
   "outputs": [],
   "source": [
    "arr = df_summary.values"
   ]
  },
  {
   "cell_type": "code",
   "execution_count": null,
   "metadata": {},
   "outputs": [],
   "source": [
    "arr.shape"
   ]
  },
  {
   "cell_type": "code",
   "execution_count": null,
   "metadata": {},
   "outputs": [],
   "source": [
    "sns.heatmap(np.corrcoef(arr, rowvar=True))"
   ]
  },
  {
   "cell_type": "code",
   "execution_count": null,
   "metadata": {},
   "outputs": [],
   "source": [
    "# for col in df_summary.columns:\n",
    "#     df_summary[col].hist()\n",
    "#     plt.title(col)\n",
    "#     plt.show()"
   ]
  },
  {
   "cell_type": "code",
   "execution_count": null,
   "metadata": {},
   "outputs": [],
   "source": [
    "p = PCA(n_components=3)"
   ]
  },
  {
   "cell_type": "code",
   "execution_count": null,
   "metadata": {},
   "outputs": [],
   "source": [
    "vectors = p.fit_transform(arr[:8,:])"
   ]
  },
  {
   "cell_type": "code",
   "execution_count": null,
   "metadata": {},
   "outputs": [],
   "source": [
    "\n",
    "xs = vectors[:,0]\n",
    "ys = vectors[:,1]\n",
    "zs = vectors[:,2]"
   ]
  },
  {
   "cell_type": "code",
   "execution_count": null,
   "metadata": {},
   "outputs": [],
   "source": [
    "fig = plt.figure()\n",
    "ax = fig.add_subplot(111, projection='3d')\n",
    "for i,(x,y,z) in enumerate(zip(xs,ys,zs)):\n",
    "    ax.plot([0,x], [0,y],[0,z], label=i)\n",
    "plt.legend()"
   ]
  },
  {
   "cell_type": "markdown",
   "metadata": {},
   "source": [
    "## Review Etherscan Labels"
   ]
  },
  {
   "cell_type": "code",
   "execution_count": null,
   "metadata": {},
   "outputs": [],
   "source": [
    "sql = '''\n",
    "SELECT es.label,es.category, a.*  FROM `eth-tokens.test.clean_avg_1MM_with_balances_tokens` a\n",
    "INNER JOIN `eth-tokens.alldata.etherscan_labelcloud` es\n",
    "ON a.address = es.address\n",
    "WHERE es.label IS NOT NULL\n",
    "\n",
    "'''\n",
    "\n",
    "dflabel = client.query(sql).to_dataframe()"
   ]
  },
  {
   "cell_type": "code",
   "execution_count": null,
   "metadata": {},
   "outputs": [],
   "source": [
    "dflabel.shape"
   ]
  },
  {
   "cell_type": "code",
   "execution_count": null,
   "metadata": {},
   "outputs": [],
   "source": [
    "lbls = []\n",
    "for i, row in dflabel.iterrows():\n",
    "    lbls.append(list(df['address'].values).index(row['address']))"
   ]
  },
  {
   "cell_type": "code",
   "execution_count": null,
   "metadata": {},
   "outputs": [],
   "source": [
    "dflabel['cluster'] = [cl.labels_[i] for i in lbls]"
   ]
  },
  {
   "cell_type": "code",
   "execution_count": null,
   "metadata": {},
   "outputs": [],
   "source": [
    "dflabel"
   ]
  },
  {
   "cell_type": "code",
   "execution_count": null,
   "metadata": {},
   "outputs": [],
   "source": [
    "for clust in range(cl.n_clusters):\n",
    "    print('cluster {}'.format(clust))\n",
    "    print('labelled points: {}'.format(np.sum([dflabel['cluster']==clust])))\n",
    "    print('total points: {}'.format(np.sum(cl.labels_==clust)))\n",
    "    print(dflabel[dflabel['cluster']==clust][['label','category']])\n",
    "    print('\\n\\n\\n')"
   ]
  },
  {
   "cell_type": "markdown",
   "metadata": {},
   "source": [
    "centralization of ownership"
   ]
  },
  {
   "cell_type": "code",
   "execution_count": null,
   "metadata": {},
   "outputs": [],
   "source": [
    "total_eth = {}\n",
    "total_addresses = {}\n",
    "\n",
    "for clust in range(cl.n_clusters):\n",
    "    mask = cl.labels_==clust\n",
    "    eth = np.sum(df[mask]['eth_balance'])\n",
    "    size = np.sum(cl.labels_==clust)\n",
    "    total_eth[clust] = eth\n",
    "    total_addresses[clust] = size"
   ]
  },
  {
   "cell_type": "code",
   "execution_count": null,
   "metadata": {},
   "outputs": [],
   "source": [
    "plt.pie(total_eth.values(), labels=total_eth.keys())\n",
    "plt.title('Centralization of Ownership by Cluster')\n",
    "plt.show()"
   ]
  },
  {
   "cell_type": "code",
   "execution_count": null,
   "metadata": {},
   "outputs": [],
   "source": [
    "plt.pie(total_addresses.values(), labels=total_addresses.keys())\n",
    "plt.title('Addresses per cluster')\n",
    "plt.show()"
   ]
  },
  {
   "cell_type": "code",
   "execution_count": null,
   "metadata": {},
   "outputs": [],
   "source": [
    "\n",
    "names = np.array(list(total_eth.keys()))\n",
    "values = np.array(list(total_eth.values()))\n",
    "indices = np.argsort(values)\n",
    "\n",
    "names = names[indices][::-1]\n",
    "values = values[indices][::-1]\n",
    "                  \n",
    "#tick_label does the some work as plt.xticks()\n",
    "plt.figure(figsize=(12,8))\n",
    "plt.bar(range(len(total_eth)),values/sum(values)*100,tick_label=names)\n",
    "plt.title('Total Value by Cluster')\n",
    "plt.xlabel('cluster number')\n",
    "plt.ylabel('% of total value')\n",
    "# plt.yscale('log')\n",
    "plt.tight_layout()\n",
    "plt.show()\n",
    "\n",
    "\n"
   ]
  },
  {
   "cell_type": "code",
   "execution_count": null,
   "metadata": {},
   "outputs": [],
   "source": [
    "\n",
    "names = np.array(list(total_addresses.keys()))\n",
    "values = np.array(list(total_addresses.values()))\n",
    "\n",
    "names = names[indices][::-1]\n",
    "values = values[indices][::-1]\n",
    "                  \n",
    "#tick_label does the some work as plt.xticks()\n",
    "plt.figure(figsize=(12,8))\n",
    "plt.bar(range(len(total_addresses)),values/sum(values)*100,tick_label=names)\n",
    "plt.title('Addresses per Cluster')\n",
    "plt.yscale('log')\n",
    "plt.xlabel('cluster number')\n",
    "plt.ylabel('% of total addressses')\n",
    "plt.show()"
   ]
  },
  {
   "cell_type": "code",
   "execution_count": null,
   "metadata": {},
   "outputs": [],
   "source": [
    "\n",
    "\n",
    "for clust in range(cl.n_clusters):\n",
    "    cluster_data = df[cl.labels_==clust]\n",
    "    print('cluster {}'.format(clust))\n",
    "    logbins = np.logspace(0,8,16)\n",
    "    plt.hist(cluster_data['incoming_avg_time_btwn_txns'], bins=logbins)\n",
    "    plt.xscale('log')\n",
    "    plt.show()\n",
    "    "
   ]
  },
  {
   "cell_type": "code",
   "execution_count": null,
   "metadata": {},
   "outputs": [],
   "source": [
    "labelresults = pipe.fit_transform(dflabel.iloc[:,3:-1])"
   ]
  },
  {
   "cell_type": "code",
   "execution_count": null,
   "metadata": {},
   "outputs": [],
   "source": [
    "pca = pipe.named_steps['PCA']\n",
    "plt.plot(np.arange(pca.n_components_) ,np.cumsum(pca.explained_variance_ratio_)*100)\n",
    "plt.grid(b=True)\n",
    "plt.xlabel('principal component')\n",
    "plt.title('Cumulative Percent of Variance explained')\n",
    "plt.show()"
   ]
  },
  {
   "cell_type": "code",
   "execution_count": null,
   "metadata": {},
   "outputs": [],
   "source": [
    "#scoring metric?\n",
    "clusters = [2,3,4,5,6,7,8,9,10,12,15,18,20,30,40]\n",
    "scores = []\n",
    "inertias = []\n",
    "for c in clusters:\n",
    "    cl_n = KMeans(c).fit(labelresults)\n",
    "    score = ch_score(labelresults, cl_n.labels_)\n",
    "    scores.append(score)\n",
    "    inertias.append(cl_n.inertia_)\n",
    "\n",
    "\n",
    "plt.plot(clusters, scores)\n",
    "plt.title('Calinski Harabaz Scores')"
   ]
  },
  {
   "cell_type": "code",
   "execution_count": null,
   "metadata": {},
   "outputs": [],
   "source": [
    "cl = KMeans(15).fit(labelresults)\n",
    "dflabel['cluster'] = [cl.labels_[i] for i in range(len(dflabel))]"
   ]
  },
  {
   "cell_type": "code",
   "execution_count": null,
   "metadata": {},
   "outputs": [],
   "source": [
    "time_start = time.time()\n",
    "tsne_label = TSNE(n_components=2, verbose=1, perplexity=20, n_iter=20000)\n",
    "tsne_results_label = tsne_label.fit_transform(labelresults)\n",
    "\n",
    "print('t-SNE done! Time elapsed: {} seconds'.format(time.time()-time_start))"
   ]
  },
  {
   "cell_type": "code",
   "execution_count": null,
   "metadata": {},
   "outputs": [],
   "source": [
    "plt.figure(figsize=(12,8))\n",
    "for c in np.unique(cl.labels_):\n",
    "    mask = cl.labels_==c\n",
    "    if np.sum(mask) <1:\n",
    "        lbl = '_nolegend_'\n",
    "    else:\n",
    "        lbl = c\n",
    "    plt.scatter(tsne_results_label[mask][:,0], tsne_results_label[mask][:,1], alpha=1,label=lbl)\n",
    "leg = plt.legend()\n",
    "for lh in leg.legendHandles: \n",
    "    lh.set_alpha(1)\n",
    "plt.title('T-SNE')\n",
    "plt.xlabel('first principal component')\n",
    "plt.ylabel('second principal component')\n",
    "plt.show()"
   ]
  },
  {
   "cell_type": "code",
   "execution_count": null,
   "metadata": {},
   "outputs": [],
   "source": [
    "plt.figure(figsize=(12,8))\n",
    "\n",
    "for c in np.unique(dflabel['category']):\n",
    "    mask = dflabel['category']==c\n",
    "    if np.sum(mask) <1:\n",
    "        lbl = '_nolegend_'\n",
    "    else:\n",
    "        lbl = c\n",
    "    plt.scatter(tsne_results_label[mask][:,0], tsne_results_label[mask][:,1], alpha=1,label=lbl)\n",
    "leg = plt.legend()\n",
    "for lh in leg.legendHandles: \n",
    "    lh.set_alpha(1)\n",
    "plt.title('T-SNE')\n",
    "plt.xlabel('first principal component')\n",
    "plt.ylabel('second principal component')\n",
    "plt.show()"
   ]
  },
  {
   "cell_type": "markdown",
   "metadata": {},
   "source": [
    "## subset original T-SNE results\n",
    "create a mask for all points that are labelled"
   ]
  },
  {
   "cell_type": "code",
   "execution_count": null,
   "metadata": {},
   "outputs": [],
   "source": [
    "labeled_addresses = dflabel['address'].values\n",
    "\n",
    "labelmask = np.array([addr in labeled_addresses for addr in df['address'] ] )"
   ]
  },
  {
   "cell_type": "code",
   "execution_count": null,
   "metadata": {},
   "outputs": [],
   "source": [
    "#helper function for category mask\n",
    "def cat(addr, labeled_addresses, dflabel):\n",
    "    if addr not in labeled_addresses:\n",
    "        return False\n",
    "    else:\n",
    "        idx = int(np.where(labeled_addresses==addr)[0][0])\n",
    "        return dflabel['category'][idx]"
   ]
  },
  {
   "cell_type": "code",
   "execution_count": null,
   "metadata": {},
   "outputs": [],
   "source": [
    "subset, not_subset  = tsne_results[labelmask] , tsne_results[~labelmask]\n",
    "plt.figure(figsize=(12,8))\n",
    "#not labelled points\n",
    "plt.scatter(not_subset[:,0], not_subset[:,1], c='gray', alpha=.005)\n",
    "\n",
    "#categories\n",
    "cats = np.array([cat(addr, labeled_addresses, dflabel) for addr in df['address'] ])\n",
    "\n",
    "#labelled points\n",
    "for c in list(dflabel['category'].unique()):\n",
    "    mask = dflabel['category']==c\n",
    "    if np.sum(mask) <1:\n",
    "        lbl = '_nolegend_'\n",
    "    else:\n",
    "        lbl = c\n",
    "    \n",
    "    #category mask\n",
    "    catmask = cats == c\n",
    "    \n",
    "    plt.scatter(tsne_results[(labelmask & catmask)][:,0], tsne_results[(labelmask & catmask)][:,1], alpha=1,label=lbl)\n",
    "\n",
    "leg = plt.legend()\n",
    "for lh in leg.legendHandles: \n",
    "    lh.set_alpha(1)\n",
    "\n",
    "plt.title('T-SNE')\n",
    "plt.xlabel('first principal component')\n",
    "plt.ylabel('second principal component')\n",
    "plt.show()"
   ]
  },
  {
   "cell_type": "code",
   "execution_count": null,
   "metadata": {},
   "outputs": [],
   "source": [
    "for clust in range(cl.n_clusters):\n",
    "    print('cluster {}'.format(clust))\n",
    "    print('labelled points: {}'.format(np.sum([dflabel['cluster']==clust])))\n",
    "    print('total points: {}'.format(np.sum(cl.labels_==clust)))\n",
    "    print(dflabel[dflabel['cluster']==clust][['label', 'category']])\n",
    "    print('\\n\\n\\n')"
   ]
  }
 ],
 "metadata": {
  "kernelspec": {
   "display_name": "Python 3",
   "language": "python",
   "name": "python3"
  },
  "language_info": {
   "codemirror_mode": {
    "name": "ipython",
    "version": 3
   },
   "file_extension": ".py",
   "mimetype": "text/x-python",
   "name": "python",
   "nbconvert_exporter": "python",
   "pygments_lexer": "ipython3",
   "version": "3.6.5"
  }
 },
 "nbformat": 4,
 "nbformat_minor": 2
}
