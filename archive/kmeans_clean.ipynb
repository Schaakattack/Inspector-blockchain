{
 "cells": [
  {
   "cell_type": "markdown",
   "metadata": {},
   "source": [
    "K-Means"
   ]
  },
  {
   "cell_type": "code",
   "execution_count": 1,
   "metadata": {},
   "outputs": [],
   "source": [
    "%load_ext google.cloud.bigquery\n",
    "%matplotlib inline\n",
    "from google.cloud import bigquery\n",
    "client = bigquery.Client()\n",
    "import matplotlib.pyplot as plt\n",
    "import numpy as np\n",
    "import pandas as pd\n",
    "from sklearn import cluster\n",
    "from sklearn.metrics import silhouette_score, silhouette_samples\n",
    "from sklearn.preprocessing import StandardScaler\n",
    "from sklearn.decomposition import PCA\n",
    "from sklearn.pipeline import Pipeline\n",
    "import random\n",
    "from sklearn.cluster import KMeans\n",
    "import matplotlib.cm as cm"
   ]
  },
  {
   "cell_type": "code",
   "execution_count": 2,
   "metadata": {},
   "outputs": [],
   "source": [
    "sql = '''\n",
    "SELECT *  FROM `eth-tokens.alldata.clean` LIMIT 1000000\n",
    "'''\n",
    "\n",
    "df = client.query(sql).to_dataframe()"
   ]
  },
  {
   "cell_type": "code",
   "execution_count": 3,
   "metadata": {},
   "outputs": [],
   "source": [
    "#remove address (string) from analysis\n",
    "data = df.iloc[:,1:]"
   ]
  },
  {
   "cell_type": "code",
   "execution_count": 4,
   "metadata": {},
   "outputs": [],
   "source": [
    "#number of PCA features is full reconstruction, for now\n",
    "num_features = data.shape[1]\n",
    "num_clusters = 4"
   ]
  },
  {
   "cell_type": "code",
   "execution_count": 5,
   "metadata": {},
   "outputs": [
    {
     "data": {
      "text/plain": [
       "KMeans(algorithm='auto', copy_x=True, init='k-means++', max_iter=300,\n",
       "    n_clusters=4, n_init=10, n_jobs=1, precompute_distances='auto',\n",
       "    random_state=None, tol=0.0001, verbose=0)"
      ]
     },
     "execution_count": 5,
     "metadata": {},
     "output_type": "execute_result"
    }
   ],
   "source": [
    "scale = StandardScaler()\n",
    "pca =PCA(n_components=num_features)\n",
    "cl = KMeans(num_clusters)\n",
    "#build pipeline\n",
    "pipe = Pipeline([('scale', scale ),\n",
    "                 ('PCA', pca)])\n",
    "\n",
    "results = pipe.fit_transform(data)\n",
    "\n",
    "cl.fit(results)\n",
    "\n"
   ]
  },
  {
   "cell_type": "code",
   "execution_count": 6,
   "metadata": {},
   "outputs": [
    {
     "data": {
      "text/html": [
       "<div>\n",
       "<style scoped>\n",
       "    .dataframe tbody tr th:only-of-type {\n",
       "        vertical-align: middle;\n",
       "    }\n",
       "\n",
       "    .dataframe tbody tr th {\n",
       "        vertical-align: top;\n",
       "    }\n",
       "\n",
       "    .dataframe thead th {\n",
       "        text-align: right;\n",
       "    }\n",
       "</style>\n",
       "<table border=\"1\" class=\"dataframe\">\n",
       "  <thead>\n",
       "    <tr style=\"text-align: right;\">\n",
       "      <th></th>\n",
       "      <th>outgoing_txns</th>\n",
       "      <th>incoming_txns</th>\n",
       "      <th>total_eth_sent</th>\n",
       "      <th>avg_eth_sent</th>\n",
       "      <th>total_usd_sent</th>\n",
       "      <th>avg_usd_sent</th>\n",
       "      <th>total_eth_recd</th>\n",
       "      <th>avg_eth_recd</th>\n",
       "      <th>total_usd_recd</th>\n",
       "      <th>avg_usd_recd</th>\n",
       "      <th>active_months</th>\n",
       "      <th>monthly_outgoing_txns</th>\n",
       "      <th>monthly_incoming_txns</th>\n",
       "      <th>monthly_eth_sent</th>\n",
       "      <th>monthly_usd_sent</th>\n",
       "      <th>monthly_eth_recd</th>\n",
       "      <th>monthly_usd_recd</th>\n",
       "      <th>contracts_created</th>\n",
       "      <th>contract_txns_sent</th>\n",
       "    </tr>\n",
       "  </thead>\n",
       "  <tbody>\n",
       "    <tr>\n",
       "      <th>0</th>\n",
       "      <td>3.210570e+01</td>\n",
       "      <td>2.731848e+01</td>\n",
       "      <td>4.835611e+02</td>\n",
       "      <td>78.958594</td>\n",
       "      <td>7.232910e+04</td>\n",
       "      <td>5531.735733</td>\n",
       "      <td>4.992388e+02</td>\n",
       "      <td>80.794361</td>\n",
       "      <td>6.776447e+04</td>\n",
       "      <td>4.776787e+03</td>\n",
       "      <td>15.890553</td>\n",
       "      <td>2.851661</td>\n",
       "      <td>2.620470</td>\n",
       "      <td>2.836694e+01</td>\n",
       "      <td>6.570324e+03</td>\n",
       "      <td>2.964820e+01</td>\n",
       "      <td>6.677903e+03</td>\n",
       "      <td>3.549207e-01</td>\n",
       "      <td>4.544397e+00</td>\n",
       "    </tr>\n",
       "    <tr>\n",
       "      <th>1</th>\n",
       "      <td>1.252250e+06</td>\n",
       "      <td>1.084444e+06</td>\n",
       "      <td>1.273841e+08</td>\n",
       "      <td>101.724147</td>\n",
       "      <td>8.922014e+09</td>\n",
       "      <td>7124.786883</td>\n",
       "      <td>5.432072e+07</td>\n",
       "      <td>50.090846</td>\n",
       "      <td>3.833821e+08</td>\n",
       "      <td>3.535288e+02</td>\n",
       "      <td>40.000000</td>\n",
       "      <td>31306.250000</td>\n",
       "      <td>27111.100000</td>\n",
       "      <td>3.184602e+06</td>\n",
       "      <td>2.230504e+08</td>\n",
       "      <td>1.358018e+06</td>\n",
       "      <td>9.584554e+06</td>\n",
       "      <td>1.000000e+00</td>\n",
       "      <td>5.780600e+04</td>\n",
       "    </tr>\n",
       "    <tr>\n",
       "      <th>2</th>\n",
       "      <td>1.207240e+06</td>\n",
       "      <td>1.586513e+05</td>\n",
       "      <td>8.793514e+06</td>\n",
       "      <td>5030.997722</td>\n",
       "      <td>1.691379e+09</td>\n",
       "      <td>655314.045363</td>\n",
       "      <td>6.195362e+06</td>\n",
       "      <td>4465.207435</td>\n",
       "      <td>6.434167e+08</td>\n",
       "      <td>2.094315e+05</td>\n",
       "      <td>24.321429</td>\n",
       "      <td>36765.906563</td>\n",
       "      <td>11929.273933</td>\n",
       "      <td>3.264291e+05</td>\n",
       "      <td>7.133835e+07</td>\n",
       "      <td>2.427872e+05</td>\n",
       "      <td>4.069539e+07</td>\n",
       "      <td>3.771821e+03</td>\n",
       "      <td>6.006686e+04</td>\n",
       "    </tr>\n",
       "    <tr>\n",
       "      <th>3</th>\n",
       "      <td>3.664460e+05</td>\n",
       "      <td>8.203125e+04</td>\n",
       "      <td>7.727411e+06</td>\n",
       "      <td>157.598400</td>\n",
       "      <td>3.467592e+09</td>\n",
       "      <td>77094.784201</td>\n",
       "      <td>7.922574e+06</td>\n",
       "      <td>2966.563156</td>\n",
       "      <td>3.531549e+09</td>\n",
       "      <td>1.626067e+06</td>\n",
       "      <td>13.750000</td>\n",
       "      <td>28279.744865</td>\n",
       "      <td>8207.791234</td>\n",
       "      <td>5.901831e+05</td>\n",
       "      <td>2.785969e+08</td>\n",
       "      <td>6.010452e+05</td>\n",
       "      <td>2.835143e+08</td>\n",
       "      <td>7.517842e-11</td>\n",
       "      <td>3.288383e-10</td>\n",
       "    </tr>\n",
       "  </tbody>\n",
       "</table>\n",
       "</div>"
      ],
      "text/plain": [
       "   outgoing_txns  incoming_txns  total_eth_sent  avg_eth_sent  total_usd_sent  \\\n",
       "0   3.210570e+01   2.731848e+01    4.835611e+02     78.958594    7.232910e+04   \n",
       "1   1.252250e+06   1.084444e+06    1.273841e+08    101.724147    8.922014e+09   \n",
       "2   1.207240e+06   1.586513e+05    8.793514e+06   5030.997722    1.691379e+09   \n",
       "3   3.664460e+05   8.203125e+04    7.727411e+06    157.598400    3.467592e+09   \n",
       "\n",
       "    avg_usd_sent  total_eth_recd  avg_eth_recd  total_usd_recd  avg_usd_recd  \\\n",
       "0    5531.735733    4.992388e+02     80.794361    6.776447e+04  4.776787e+03   \n",
       "1    7124.786883    5.432072e+07     50.090846    3.833821e+08  3.535288e+02   \n",
       "2  655314.045363    6.195362e+06   4465.207435    6.434167e+08  2.094315e+05   \n",
       "3   77094.784201    7.922574e+06   2966.563156    3.531549e+09  1.626067e+06   \n",
       "\n",
       "   active_months  monthly_outgoing_txns  monthly_incoming_txns  \\\n",
       "0      15.890553               2.851661               2.620470   \n",
       "1      40.000000           31306.250000           27111.100000   \n",
       "2      24.321429           36765.906563           11929.273933   \n",
       "3      13.750000           28279.744865            8207.791234   \n",
       "\n",
       "   monthly_eth_sent  monthly_usd_sent  monthly_eth_recd  monthly_usd_recd  \\\n",
       "0      2.836694e+01      6.570324e+03      2.964820e+01      6.677903e+03   \n",
       "1      3.184602e+06      2.230504e+08      1.358018e+06      9.584554e+06   \n",
       "2      3.264291e+05      7.133835e+07      2.427872e+05      4.069539e+07   \n",
       "3      5.901831e+05      2.785969e+08      6.010452e+05      2.835143e+08   \n",
       "\n",
       "   contracts_created  contract_txns_sent  \n",
       "0       3.549207e-01        4.544397e+00  \n",
       "1       1.000000e+00        5.780600e+04  \n",
       "2       3.771821e+03        6.006686e+04  \n",
       "3       7.517842e-11        3.288383e-10  "
      ]
     },
     "execution_count": 6,
     "metadata": {},
     "output_type": "execute_result"
    }
   ],
   "source": [
    "#get centroids\n",
    "c = cl.cluster_centers_\n",
    "#transform back to real numbers\n",
    "medoids = scale.inverse_transform(pca.inverse_transform(c))\n",
    "pd.DataFrame(medoids, columns = data.columns)"
   ]
  },
  {
   "cell_type": "code",
   "execution_count": 7,
   "metadata": {},
   "outputs": [
    {
     "data": {
      "image/png": "[encoded data removed]",
      "text/plain": [
       "<Figure size 432x288 with 1 Axes>"
      ]
     },
     "metadata": {},
     "output_type": "display_data"
    }
   ],
   "source": [
    "#percent of variance explained by each component\n",
    "\n",
    "plt.plot(np.arange(pca.n_components_) ,np.cumsum(pca.explained_variance_ratio_)*100)\n",
    "plt.grid(b=True)\n",
    "plt.xlabel('principal component')\n",
    "plt.title('Cumulative Percent of Variance explained')\n",
    "plt.show()"
   ]
  },
  {
   "cell_type": "code",
   "execution_count": 8,
   "metadata": {},
   "outputs": [],
   "source": [
    "#plt.scatter(results[:,0],results[:,1],c=cl.labels_, s=5)"
   ]
  },
  {
   "cell_type": "code",
   "execution_count": 9,
   "metadata": {},
   "outputs": [
    {
     "data": {
      "text/plain": [
       "<matplotlib.collections.PathCollection at 0x7f094370b8d0>"
      ]
     },
     "execution_count": 9,
     "metadata": {},
     "output_type": "execute_result"
    },
    {
     "data": {
      "image/png": "[encoded data removed]",
      "text/plain": [
       "<Figure size 432x288 with 1 Axes>"
      ]
     },
     "metadata": {},
     "output_type": "display_data"
    }
   ],
   "source": [
    "#plot in cluster distance space\n",
    "r = cl.transform(results)\n",
    "plt.scatter(r[:,3],r[:,2],c=cl.labels_, s=5)"
   ]
  },
  {
   "cell_type": "code",
   "execution_count": 10,
   "metadata": {},
   "outputs": [],
   "source": [
    "#elbow method\n"
   ]
  },
  {
   "cell_type": "code",
   "execution_count": 11,
   "metadata": {},
   "outputs": [],
   "source": [
    "#scoring metric?\n",
    "from sklearn.metrics import calinski_harabaz_score as ch_score\n",
    "clusters = [2, 3,4,5,6,7,8,9,10,12,15,20,25, 40]\n",
    "scores = []\n",
    "inertias = []\n",
    "for c in clusters:\n",
    "    cl_n = KMeans(c).fit(results)\n",
    "    score = ch_score(results, cl_n.labels_)\n",
    "    scores.append(score)\n",
    "    inertias.append(cl_n.inertia_)\n"
   ]
  },
  {
   "cell_type": "code",
   "execution_count": 12,
   "metadata": {},
   "outputs": [
    {
     "data": {
      "text/plain": [
       "Text(0.5,1,'Calinski Harabaz Scores')"
      ]
     },
     "execution_count": 12,
     "metadata": {},
     "output_type": "execute_result"
    },
    {
     "data": {
      "image/png": "[encoded data removed]",
      "text/plain": [
       "<Figure size 432x288 with 1 Axes>"
      ]
     },
     "metadata": {},
     "output_type": "display_data"
    }
   ],
   "source": [
    "plt.plot(clusters, scores)\n",
    "plt.title('Calinski Harabaz Scores')"
   ]
  },
  {
   "cell_type": "code",
   "execution_count": 13,
   "metadata": {},
   "outputs": [
    {
     "data": {
      "text/plain": [
       "Text(0,0.5,'within cluster sum of squares')"
      ]
     },
     "execution_count": 13,
     "metadata": {},
     "output_type": "execute_result"
    },
    {
     "data": {
      "image/png": "[encoded data removed]",
      "text/plain": [
       "<Figure size 432x288 with 1 Axes>"
      ]
     },
     "metadata": {},
     "output_type": "display_data"
    }
   ],
   "source": [
    "plt.plot(clusters,inertias)\n",
    "plt.title('Elbow plot')\n",
    "plt.ylabel('within cluster sum of squares')"
   ]
  },
  {
   "cell_type": "code",
   "execution_count": 14,
   "metadata": {},
   "outputs": [
    {
     "data": {
      "text/plain": [
       "KMeans(algorithm='auto', copy_x=True, init='k-means++', max_iter=300,\n",
       "    n_clusters=12, n_init=10, n_jobs=1, precompute_distances='auto',\n",
       "    random_state=None, tol=0.0001, verbose=0)"
      ]
     },
     "execution_count": 14,
     "metadata": {},
     "output_type": "execute_result"
    }
   ],
   "source": [
    "#optmal number of clusters is around 12\n",
    "cl = KMeans(12)\n",
    "cl.fit(results)"
   ]
  },
  {
   "cell_type": "code",
   "execution_count": 15,
   "metadata": {},
   "outputs": [],
   "source": [
    "#outlier removal\n",
    "\n",
    "\n",
    "\n",
    "def remove_outliers(results, cl, threshold):\n",
    "    '''\n",
    "    returns subset of results, and associated labels as a tuple\n",
    "    takes results and a fit KMeans cluster object'''\n",
    "    \n",
    "    new_labels = []\n",
    "    new_results = []\n",
    "    \n",
    "    \n",
    "    #code for deciding what clusters to keep\n",
    "    for i, center in enumerate(cl.cluster_centers_):\n",
    "        within_cluster_results = results[cl.labels_==i]\n",
    "        centroid = cl.cluster_centers_[i]\n",
    "        #calc std vectors\n",
    "        stdev = np.std(within_cluster_results, axis=0)\n",
    "       \n",
    "        keep = np.linalg.norm((centroid - within_cluster_results), axis=1) < threshold*np.linalg.norm(stdev)\n",
    "        new_results.append(within_cluster_results[keep])\n",
    "        #add labels?\n",
    "        new_labels.extend([i for j in range(len(within_cluster_results[keep]))])\n",
    "    return np.vstack(new_results), np.array(new_labels)\n"
   ]
  },
  {
   "cell_type": "code",
   "execution_count": null,
   "metadata": {},
   "outputs": [],
   "source": []
  },
  {
   "cell_type": "code",
   "execution_count": 16,
   "metadata": {},
   "outputs": [],
   "source": [
    "thresholds = np.linspace(.3,3, 20)\n",
    "\n",
    "test = [remove_outliers(results, cl,t) for t in thresholds]\n",
    "\n",
    "scores= []\n",
    "for (res, labels) in test:\n",
    "    \n",
    "    score = ch_score(res, labels)\n",
    "    scores.append(score)"
   ]
  },
  {
   "cell_type": "code",
   "execution_count": null,
   "metadata": {},
   "outputs": [],
   "source": []
  },
  {
   "cell_type": "code",
   "execution_count": 17,
   "metadata": {},
   "outputs": [
    {
     "data": {
      "text/plain": [
       "Text(0.5,1,'Calinski Harabaz Scores as std threshold changes')"
      ]
     },
     "execution_count": 17,
     "metadata": {},
     "output_type": "execute_result"
    },
    {
     "data": {
      "image/png": "[encoded data removed]",
      "text/plain": [
       "<Figure size 432x288 with 1 Axes>"
      ]
     },
     "metadata": {},
     "output_type": "display_data"
    }
   ],
   "source": [
    "plt.plot(thresholds, scores)\n",
    "plt.title('Calinski Harabaz Scores as std threshold changes')"
   ]
  },
  {
   "cell_type": "code",
   "execution_count": 18,
   "metadata": {},
   "outputs": [],
   "source": [
    "#empirical best threshold .75 stdev\n",
    "newresults, labels = remove_outliers(results, cl,.75)"
   ]
  },
  {
   "cell_type": "code",
   "execution_count": 27,
   "metadata": {},
   "outputs": [
    {
     "data": {
      "text/plain": [
       "(-15, 10)"
      ]
     },
     "execution_count": 27,
     "metadata": {},
     "output_type": "execute_result"
    },
    {
     "data": {
      "image/png": "[encoded data removed]",
      "text/plain": [
       "<Figure size 432x288 with 1 Axes>"
      ]
     },
     "metadata": {},
     "output_type": "display_data"
    }
   ],
   "source": [
    "plt.scatter(newresults[:,0],newresults[:,1],c=labels)\n",
    "plt.xlim(-10,100)\n",
    "plt.ylim(-15,10)\n"
   ]
  },
  {
   "cell_type": "code",
   "execution_count": 29,
   "metadata": {},
   "outputs": [
    {
     "data": {
      "text/plain": [
       "<matplotlib.collections.PathCollection at 0x7f093f790390>"
      ]
     },
     "execution_count": 29,
     "metadata": {},
     "output_type": "execute_result"
    },
    {
     "data": {
      "image/png": "[encoded data removed]",
      "text/plain": [
       "<Figure size 432x288 with 1 Axes>"
      ]
     },
     "metadata": {},
     "output_type": "display_data"
    }
   ],
   "source": [
    "plt.scatter(results[:,0],results[:,1],c=cl.labels_)\n",
    "# plt.xlim(-10,100)\n",
    "# plt.ylim(-15,10)\n"
   ]
  },
  {
   "cell_type": "code",
   "execution_count": 21,
   "metadata": {},
   "outputs": [],
   "source": [
    "#recluster after changes\n",
    "newcl = KMeans(12).fit(newresults)"
   ]
  },
  {
   "cell_type": "code",
   "execution_count": 24,
   "metadata": {},
   "outputs": [
    {
     "data": {
      "image/png": "[encoded data removed]",
      "text/plain": [
       "<Figure size 432x288 with 1 Axes>"
      ]
     },
     "metadata": {},
     "output_type": "display_data"
    }
   ],
   "source": [
    "plt.scatter(newresults[:,0],newresults[:,1],c=newcl.labels_, s=5)\n"
   ]
  },
  {
   "cell_type": "code",
   "execution_count": null,
   "metadata": {},
   "outputs": [],
   "source": []
  },
  {
   "cell_type": "code",
   "execution_count": null,
   "metadata": {},
   "outputs": [],
   "source": []
  },
  {
   "cell_type": "code",
   "execution_count": null,
   "metadata": {},
   "outputs": [],
   "source": []
  },
  {
   "cell_type": "code",
   "execution_count": null,
   "metadata": {},
   "outputs": [],
   "source": []
  },
  {
   "cell_type": "code",
   "execution_count": null,
   "metadata": {},
   "outputs": [],
   "source": []
  }
 ],
 "metadata": {
  "kernelspec": {
   "display_name": "Python 3",
   "language": "python",
   "name": "python3"
  },
  "language_info": {
   "codemirror_mode": {
    "name": "ipython",
    "version": 3
   },
   "file_extension": ".py",
   "mimetype": "text/x-python",
   "name": "python",
   "nbconvert_exporter": "python",
   "pygments_lexer": "ipython3",
   "version": "3.6.5"
  }
 },
 "nbformat": 4,
 "nbformat_minor": 2
}
